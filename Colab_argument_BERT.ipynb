{
  "nbformat": 4,
  "nbformat_minor": 0,
  "metadata": {
    "colab": {
      "name": "Colab_argument_BERT",
      "version": "0.3.2",
      "provenance": [],
      "toc_visible": true
    },
    "kernelspec": {
      "name": "python3",
      "display_name": "Python 3"
    }
  },
  "cells": [
    {
      "cell_type": "markdown",
      "metadata": {
        "id": "Sx6ZrHwtosad",
        "colab_type": "text"
      },
      "source": [
        "# Set up environment"
      ]
    },
    {
      "cell_type": "code",
      "metadata": {
        "id": "brdGVj2u7BfJ",
        "colab_type": "code",
        "colab": {}
      },
      "source": [
        "from google.colab import drive\n",
        "drive.mount('/content/gdrive')\n",
        "\n",
        "!ln -s /content/gdrive/My\\ Drive/Manchester/Courses/Masters/datasets /content/datasets\n",
        "!ln -s /content/gdrive/My\\ Drive/Manchester/Courses/Masters/models /content/models"
      ],
      "execution_count": 0,
      "outputs": []
    },
    {
      "cell_type": "code",
      "metadata": {
        "id": "jDKOHPjg6uBT",
        "colab_type": "code",
        "colab": {}
      },
      "source": [
        "!pip install bert-embedding\n",
        "!pip install -e git+https://github.com/negedng/bert-embedding#egg=bert_embedding\n",
        "\n",
        "!pip install vaderSentiment\n",
        "!pip install xmltodict\n",
        "!pip install gensim\n",
        "!pip install -U spacy\n",
        "#!python -m spacy download en_core_web_lg\n",
        "\n",
        "import nltk\n",
        "nltk.download('punkt')\n",
        "nltk.download('averaged_perceptron_tagger')\n",
        "nltk.download('tagsets')\n",
        "\n",
        "!wget -P /root/input/ -c \"https://s3.amazonaws.com/dl4j-distribution/GoogleNews-vectors-negative300.bin.gz\"\n",
        "\n",
        "!git clone https://github.com/negedng/argument_BERT"
      ],
      "execution_count": 0,
      "outputs": []
    },
    {
      "cell_type": "markdown",
      "metadata": {
        "id": "x8p8ivwwo1oX",
        "colab_type": "text"
      },
      "source": [
        "# Trainer and predictor example"
      ]
    },
    {
      "cell_type": "code",
      "metadata": {
        "id": "4_ObcuVFop9q",
        "colab_type": "code",
        "colab": {}
      },
      "source": [
        "from argument_BERT import argumentor, trainer"
      ],
      "execution_count": 0,
      "outputs": []
    },
    {
      "cell_type": "markdown",
      "metadata": {
        "id": "61wgEeS5ImXl",
        "colab_type": "text"
      },
      "source": [
        "Training a relation detection model"
      ]
    },
    {
      "cell_type": "code",
      "metadata": {
        "id": "svMK-ihf6mtq",
        "colab_type": "code",
        "colab": {}
      },
      "source": [
        "trainer.trainer(\"/content/datasets/brat-project/\", ADU=False, train_generable=True, rst_files=False, verbose=1)"
      ],
      "execution_count": 0,
      "outputs": []
    },
    {
      "cell_type": "code",
      "metadata": {
        "id": "aV0fhq2UWZYk",
        "colab_type": "code",
        "colab": {}
      },
      "source": [
        "essay01 = \"\"\"Should students be taught to compete or to cooperate?\n",
        "\n",
        "It is always said that competition can effectively promote the development of economy. In order to survive in the competition, companies continue to improve their products and service, and as a result, the whole society prospers. However, when we discuss the issue of competition or cooperation, what we are concerned about is not the whole society, but the development of an individual's whole life. From this point of view, I firmly believe that we should attach more importance to cooperation during primary education.\n",
        "First of all, through cooperation, children can learn about interpersonal skills which are significant in the future life of all students. What we acquired from team work is not only how to achieve the same goal with others but more importantly, how to get along with others. During the process of cooperation, children can learn about how to listen to opinions of others, how to communicate with others, how to think comprehensively, and even how to compromise with other team members when conflicts occurred. All of these skills help them to get on well with other people and will benefit them for the whole life.\n",
        "On the other hand, the significance of competition is that how to become more excellence to gain the victory. Hence it is always said that competition makes the society more effective. However, when we consider about the question that how to win the game, we always find that we need the cooperation. The greater our goal is, the more competition we need. Take Olympic games which is a form of competition for instance, it is hard to imagine how an athlete could win the game without the training of his or her coach, and the help of other professional staffs such as the people who take care of his diet, and those who are in charge of the medical care. The winner is the athlete but the success belongs to the whole team. Therefore without the cooperation, there would be no victory of competition.\n",
        "Consequently, no matter from the view of individual development or the relationship between competition and cooperation we can receive the same conclusion that a more cooperative attitudes towards life is more profitable in one's success.\"\"\""
      ],
      "execution_count": 0,
      "outputs": []
    },
    {
      "cell_type": "markdown",
      "metadata": {
        "id": "iW9vdC4fIxy8",
        "colab_type": "text"
      },
      "source": [
        "Full argument annotation using the essay example"
      ]
    },
    {
      "cell_type": "code",
      "metadata": {
        "id": "P54Z1uT-sdQS",
        "colab_type": "code",
        "colab": {}
      },
      "source": [
        "argumentor.argumentor(essay01, \"models/model_pc.h5\", \"models/model_rsa.h5\", \"brat-project\", \"essay01.ann.xml\", verbose=0)"
      ],
      "execution_count": 0,
      "outputs": []
    },
    {
      "cell_type": "code",
      "metadata": {
        "id": "rAq0z8Wy7wBh",
        "colab_type": "code",
        "colab": {}
      },
      "source": [
        ""
      ],
      "execution_count": 0,
      "outputs": []
    }
  ]
}