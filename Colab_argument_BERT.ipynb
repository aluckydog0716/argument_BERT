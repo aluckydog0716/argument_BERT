{
  "nbformat": 4,
  "nbformat_minor": 0,
  "metadata": {
    "colab": {
      "name": "Colab_argument_BERT",
      "version": "0.3.2",
      "provenance": []
    },
    "kernelspec": {
      "name": "python3",
      "display_name": "Python 3"
    }
  },
  "cells": [
    {
      "cell_type": "markdown",
      "metadata": {
        "id": "Sx6ZrHwtosad",
        "colab_type": "text"
      },
      "source": [
        "# Set up environment"
      ]
    },
    {
      "cell_type": "code",
      "metadata": {
        "id": "brdGVj2u7BfJ",
        "colab_type": "code",
        "colab": {}
      },
      "source": [
        "from google.colab import drive\n",
        "drive.mount('/content/gdrive')\n",
        "\n",
        "!ln -s /content/gdrive/My\\ Drive/Manchester/Courses/Masters/datasets /content/datasets\n",
        "!ln -s /content/gdrive/My\\ Drive/Manchester/Courses/Masters/models /content/models"
      ],
      "execution_count": 0,
      "outputs": []
    },
    {
      "cell_type": "code",
      "metadata": {
        "id": "jDKOHPjg6uBT",
        "colab_type": "code",
        "colab": {}
      },
      "source": [
        "!pip install bert-embedding\n",
        "!pip install -e git+https://github.com/negedng/bert-embedding#egg=bert_embedding\n",
        "\n",
        "!pip install vaderSentiment\n",
        "!pip install xmltodict\n",
        "!pip install gensim\n",
        "!pip install -U spacy\n",
        "#!python -m spacy download en_core_web_lg\n",
        "\n",
        "import nltk\n",
        "nltk.download('punkt')\n",
        "nltk.download('averaged_perceptron_tagger')\n",
        "nltk.download('tagsets')\n",
        "\n",
        "!wget -P /root/input/ -c \"https://s3.amazonaws.com/dl4j-distribution/GoogleNews-vectors-negative300.bin.gz\"\n",
        "\n",
        "!git clone https://github.com/negedng/argument_BERT"
      ],
      "execution_count": 0,
      "outputs": []
    },
    {
      "cell_type": "markdown",
      "metadata": {
        "id": "x8p8ivwwo1oX",
        "colab_type": "text"
      },
      "source": [
        "# Trainer and predictor example"
      ]
    },
    {
      "cell_type": "code",
      "metadata": {
        "id": "4_ObcuVFop9q",
        "colab_type": "code",
        "colab": {}
      },
      "source": [
        "from argument_BERT import argumentor"
      ],
      "execution_count": 0,
      "outputs": []
    },
    {
      "cell_type": "code",
      "metadata": {
        "id": "svMK-ihf6mtq",
        "colab_type": "code",
        "outputId": "bad9485e-7f3f-47cc-975d-5788866ec048",
        "colab": {
          "base_uri": "https://localhost:8080/",
          "height": 319
        }
      },
      "source": [
        "argumentor.trainer(\"/content/datasets/brat-project/\")"
      ],
      "execution_count": 3,
      "outputs": [
        {
          "output_type": "stream",
          "text": [
            "Loading data from directory\n",
            "Detected files: 270\n",
            "Loaded data length: 27828\n",
            "-----DATA IS UNBALANCED CURRENT SIZE: 27828 CLASS RATIO: 0.10234296392123042 ... BALANCING DATA\n",
            "-----BALANCED DATASET WITH SIZE: 5696\n",
            "Train-test split:5126 570\n",
            "X-Y data ready: 5126 570\n",
            "              precision    recall  f1-score   support\n",
            "\n",
            "  nonrelated       0.82      0.65      0.73       278\n",
            "     support       0.64      0.85      0.73       259\n",
            "      attack       0.33      0.06      0.10        33\n",
            "\n",
            "   micro avg       0.71      0.71      0.71       570\n",
            "   macro avg       0.60      0.52      0.52       570\n",
            "weighted avg       0.71      0.71      0.69       570\n",
            " samples avg       0.71      0.71      0.71       570\n",
            "\n"
          ],
          "name": "stdout"
        }
      ]
    },
    {
      "cell_type": "code",
      "metadata": {
        "id": "aV0fhq2UWZYk",
        "colab_type": "code",
        "colab": {
          "base_uri": "https://localhost:8080/",
          "height": 101
        },
        "outputId": "79fa2fdf-b8b9-477c-df0e-eb5554460148"
      },
      "source": [
        "arg1s = ['Because this is nice!', 'A so welcomed sentence', 'I hope it will work']\n",
        "arg2s = [\"I hope it will work\", \"as this is a pretty sentence\", \"Global warming harms the people\"]\n",
        "pred = argumentor.predictor(\"/content/models/model_example_sa.h5\", arg1s, arg2s)"
      ],
      "execution_count": 4,
      "outputs": [
        {
          "output_type": "stream",
          "text": [
            "Start loading resources...\n",
            "Generate prediction...\n",
            "[[0.6934454  0.30577567 0.00077892]\n",
            " [0.4461922  0.5284733  0.02533445]\n",
            " [0.5490245  0.41705638 0.03391905]]\n"
          ],
          "name": "stdout"
        }
      ]
    },
    {
      "cell_type": "code",
      "metadata": {
        "id": "P8m9gzWbYltb",
        "colab_type": "code",
        "colab": {}
      },
      "source": [
        ""
      ],
      "execution_count": 0,
      "outputs": []
    }
  ]
}